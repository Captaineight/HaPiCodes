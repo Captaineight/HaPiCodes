{
 "cells": [
  {
   "cell_type": "code",
   "execution_count": 1,
   "metadata": {},
   "outputs": [],
   "source": [
    "import sys\n",
    "sys.path.append('C:\\Program Files (x86)\\Keysight\\SD1\\Libraries\\Python')\n",
    "sys.path.append('C:\\HatCode\\PXIe')\n",
    "import keysightSD1\n",
    "import numpy as np\n",
    "import time\n",
    "import h5py\n",
    "import warnings\n",
    "from scipy import signal\n",
    "import matplotlib.pyplot as plt\n",
    "import keysight_hvi as kthvi\n"
   ]
  },
  {
   "cell_type": "code",
   "execution_count": null,
   "metadata": {},
   "outputs": [],
   "source": [
    "AWG = keysightSD1.SD_AOU()\n",
    "AWGID = AWG.openWithSlot(\"\", 1, 2)"
   ]
  },
  {
   "cell_type": "code",
   "execution_count": null,
   "metadata": {},
   "outputs": [],
   "source": [
    "for i in range(4):\n",
    "    AWG.AWGflush(i+1)\n",
    "AWG.waveformFlush()"
   ]
  },
  {
   "cell_type": "code",
   "execution_count": null,
   "metadata": {},
   "outputs": [],
   "source": [
    "for i in range(4):\n",
    "    AWG.AWGqueueConfig(i + 1, 1)\n",
    "    AWG.channelWaveShape(i + 1, keysightSD1.SD_Waveshapes.AOU_AWG)\n",
    "    AWG.channelAmplitude(i + 1, 1.5)\n",
    "    AWG.channelPhaseReset(i + 1)\n",
    "    AWG.channelOffset(i + 1, 0)"
   ]
  },
  {
   "cell_type": "code",
   "execution_count": null,
   "metadata": {},
   "outputs": [],
   "source": [
    "plt.plot(signal.gaussian(201, std=21))\n",
    "gaussianWave = signal.gaussian(201, std=21)"
   ]
  },
  {
   "cell_type": "code",
   "execution_count": null,
   "metadata": {},
   "outputs": [],
   "source": [
    "tWave = keysightSD1.SD_Wave()\n",
    "tWave.newFromArrayDouble(0, gaussianWave)\n",
    "zWave = keysightSD1.SD_Wave()\n",
    "zWave.newFromArrayDouble(0, np.zeros(100))"
   ]
  },
  {
   "cell_type": "code",
   "execution_count": null,
   "metadata": {},
   "outputs": [],
   "source": [
    "AWG.waveformLoad(tWave, 0, 0)\n",
    "# waveformObject, waveformNumber, paddingMode"
   ]
  },
  {
   "cell_type": "code",
   "execution_count": null,
   "metadata": {},
   "outputs": [],
   "source": [
    "AWG.AWGqueueWaveform(1, 0, 0, 0, 0, 0) \n",
    "# nAWG, waveformNumber, triggerMode, startDelay, cycles, prescaler"
   ]
  },
  {
   "cell_type": "code",
   "execution_count": null,
   "metadata": {},
   "outputs": [],
   "source": [
    "AWG.channelPhaseResetMultiple('1111')\n",
    "AWG.AWGstart(1)"
   ]
  },
  {
   "cell_type": "code",
   "execution_count": null,
   "metadata": {},
   "outputs": [],
   "source": [
    "AWG.AWGstop(1)"
   ]
  },
  {
   "cell_type": "code",
   "execution_count": null,
   "metadata": {},
   "outputs": [],
   "source": [
    "AWG.waveformFlush()\n",
    "AWG.AWGflush(1)"
   ]
  },
  {
   "cell_type": "code",
   "execution_count": null,
   "metadata": {},
   "outputs": [],
   "source": [
    "AWG.close()"
   ]
  },
  {
   "cell_type": "code",
   "execution_count": null,
   "metadata": {},
   "outputs": [],
   "source": []
  },
  {
   "cell_type": "code",
   "execution_count": 2,
   "metadata": {},
   "outputs": [],
   "source": [
    "class ApplicationConfig:\n",
    "    \" Defines module descriptors, configuration options and names of HVI engines, actions, triggers\"\n",
    "    def __init__(self):\n",
    "        #Configuration options\n",
    "        self.hardware_simulated = False \n",
    "        # Define options to open the instruments. Complete option list can be found in the SD1 user guide\n",
    "        self.options = 'channelNumbering=keysight'\n",
    "        # Define names of HVI engines, actions, triggers\n",
    "        self.engine_name = \"AwgEngine\"\n",
    "        self.awg_trigger_action_name = \"AwgTrigger\"\n",
    "        self.fp_trigger_name = \"FpTrigger\"\n",
    "    \n",
    "    class ModuleDescriptor:\n",
    "        \"Descriptor for module objects\"\n",
    "        def __init__(self, model_number, chassis_number, slot_number, options, engine_name):\n",
    "            self.model_number = model_number\n",
    "            self.chassis_number = chassis_number\n",
    "            self.slot_number = slot_number\n",
    "            self.options = options\n",
    "            self.engine_name = engine_name\n",
    "\n",
    "    class M9031Descriptor:\n",
    "        \"Describes the interconnection between each pair of M9031A modules\"\n",
    "        def __init__(self, first_M9031_chassis_number, first_M9031_slot_number, second_M9031_chassis_number, second_M9031_slot_number):\n",
    "            self.chassis_1 = first_M9031_chassis_number\n",
    "            self.slot_1 = first_M9031_slot_number\n",
    "            self.chassis_2 = second_M9031_chassis_number\n",
    "            self.slot_2 = second_M9031_slot_number\n",
    "\n",
    "    class Module:\n",
    "        \"Class defining a modular instrument object and its properties\"\n",
    "        def __init__(self, instrument_object, num_channels):\n",
    "            self.instrument = instrument_object\n",
    "            self.num_channels = num_channels"
   ]
  },
  {
   "cell_type": "code",
   "execution_count": 3,
   "metadata": {},
   "outputs": [],
   "source": [
    "def open_modules(module_descriptors):\n",
    "    \"\"\" \n",
    "    Opens and creates all the necessary instrument objects.\n",
    "    Returns a dictionary of module objects whose keys are the HVI engine names.\n",
    "    Please check SD1 3.x User Manual for options to open the instrument objects\n",
    "    \"\"\"\n",
    "    config = ApplicationConfig()\n",
    "    # Initialize output variables\n",
    "    num_modules = 0\n",
    "    module_dict = {} # dictionary of modules\n",
    "\n",
    "    # Open SD1 instrument objects\n",
    "    for descriptor in module_descriptors:\n",
    "        if descriptor.model_number == \"M3102A\":\n",
    "            instr_obj = keysightSD1.SD_AIN()\n",
    "        else:\n",
    "            instr_obj = keysightSD1.SD_AOU()\n",
    "        instr_obj_options = descriptor.options + ',simulate=true' if config.hardware_simulated else descriptor.options\n",
    "        id = instr_obj.openWithOptions(descriptor.model_number, descriptor.chassis_number, descriptor.slot_number, instr_obj_options)\n",
    "        if id < 0:\n",
    "            raise Exception(\"Error opening instrument in chassis: {}, slot: {}! Error code: {} - {}. Exiting...\".format(descriptor.chassis_number, descriptor.slot_number, id, keysightSD1.SD_Error.getErrorMessage(id)))\n",
    "        nCh = instr_obj.getOptions(\"channels\")\n",
    "        if nCh == \"CH2\":\n",
    "            num_channels = 2\n",
    "        elif nCh == \"CH4\":\n",
    "            num_channels = 4\n",
    "        else:\n",
    "            raise Exception(\"PXI module in chassis {}, slot {} returned number of channels = {} which is incorrect. Exiting... \".format(instr_obj.getChassis(), instr_obj.getSlot(), nCh))\n",
    "        module_dict[descriptor.engine_name] = config.Module(instr_obj, num_channels)\n",
    "        num_modules += 1\n",
    "    \n",
    "    return module_dict"
   ]
  },
  {
   "cell_type": "code",
   "execution_count": 48,
   "metadata": {},
   "outputs": [],
   "source": [
    "def configure_awg(awg_module, num_channels = 4):\n",
    "    \"\"\" \n",
    "    awg_queue_waveform(awg_module, num_channels) queues a Gaussian waveform to all the num_channels channels of\n",
    "    the AWG object awg_module that is passed to the function\n",
    "    \"\"\"  \n",
    "    # AWG settings for all channels\n",
    "    syncMode = keysightSD1.SD_SyncModes.SYNC_NONE # (SYNC_NONE / SYNC_CLK10) OR (0 / 1)\n",
    "    queueMode = keysightSD1.SD_QueueMode.ONE_SHOT # (ONE_SHOT / CYCLIC)\n",
    "    startDelay = 0\n",
    "    prescaler = 0\n",
    "    nCycles = 0\n",
    "    amplitude = 1\n",
    "    # Trigger settings\n",
    "    triggerMode = keysightSD1.SD_TriggerModes.SWHVITRIG_CYCLE # (AUTOTRIG / SWHVITRIG / SWHVITRIG_CYCLE / EXTTRIG / EXTTRIG_CYCLE)\n",
    "    \n",
    "    # Load waveform to AWG memory\n",
    "    awg_module.waveformFlush() #memory flush\n",
    "    \n",
    "    wave = keysightSD1.SD_Wave()\n",
    "    wfmNum = 0\n",
    "    gaussianWave = signal.gaussian(201, std=21)\n",
    "    wave.newFromArrayDouble(0, gaussianWave)\n",
    "    awg_module.waveformLoad(wave, wfmNum)\n",
    "\n",
    "    Bwave = keysightSD1.SD_Wave()\n",
    "    wfmNum = 1\n",
    "    boxWave = np.zeros(51) + 1\n",
    "    Bwave.newFromArrayDouble(0, boxWave)\n",
    "    awg_module.waveformLoad(Bwave, wfmNum)\n",
    "    \n",
    "    for nAWG in range(1, num_channels+1):\n",
    "        # AWG queue flush \n",
    "        awg_module.AWGstop(nAWG)\n",
    "        awg_module.AWGflush(nAWG)\n",
    "        # Set AWG mode\n",
    "        awg_module.channelWaveShape(nAWG, keysightSD1.SD_Waveshapes.AOU_AWG)\n",
    "        awg_module.channelAmplitude(nAWG, amplitude)\n",
    "        # AWG configuration\n",
    "        awg_module.AWGqueueConfig(nAWG, queueMode)\n",
    "        awg_module.AWGqueueSyncMode(nAWG, syncMode)\n",
    "        # Queue waveform to channel nAWG\n",
    "        awg_module.AWGqueueWaveform(nAWG, wfmNum, triggerMode, startDelay, nCycles, prescaler)\n",
    "        awg_module.AWGstart(nAWG) # AWG starts and wait for trigger\n"
   ]
  },
  {
   "cell_type": "code",
   "execution_count": 5,
   "metadata": {},
   "outputs": [],
   "source": [
    "def define_hvi_resources(sys_def, module_dict, chassis_list, M9031_descriptors, pxi_sync_trigger_resources):\n",
    "    \"\"\"\n",
    "    Configures all the necessary resources for the HVI application to execute: HW platform, engines, actions, triggers, etc. \n",
    "    \"\"\"\n",
    "    # Define HW platform: chassis, interconnections, PXI trigger resources, synchronization, HVI clocks\n",
    "    define_hw_platform(sys_def, chassis_list, M9031_descriptors, pxi_sync_trigger_resources)\n",
    "\n",
    "    # Define all the HVI engines to be included in the HVI\n",
    "    define_hvi_engines(sys_def, module_dict)\n",
    "    \n",
    "    # Define list of actions to be executed\n",
    "    define_hvi_actions(sys_def, module_dict)\n",
    "\n",
    "    # Defines the trigger resources\n",
    "    define_hvi_triggers(sys_def, module_dict)"
   ]
  },
  {
   "cell_type": "code",
   "execution_count": 6,
   "metadata": {},
   "outputs": [],
   "source": [
    "def define_hw_platform(sys_def, chassis_list, M9031_descriptors, pxi_sync_trigger_resources):\n",
    "    \"\"\"\n",
    "     Define HW platform: chassis, interconnections, PXI trigger resources, synchronization, HVI clocks \n",
    "    \"\"\"\n",
    "    config = ApplicationConfig()\n",
    "\n",
    "    # Add chassis resources\n",
    "    for chassis_number in chassis_list:\n",
    "        if config.hardware_simulated:\n",
    "            sys_def.chassis.add_with_options(chassis_number, 'Simulate=True,DriverSetup=model=M9018B,NoDriver=True')\n",
    "        else:\n",
    "            sys_def.chassis.add(chassis_number)\n",
    "\n",
    "    # Add M9031 modules for multi-chassis setups\n",
    "    if M9031_descriptors:\n",
    "        interconnects = sys_def.interconnects\n",
    "        for descriptor in M9031_descriptors:\n",
    "            interconnects.add_M9031_modules(descriptor.chassis_1, descriptor.slot_1, descriptor.chassis_2, descriptor.slot_2)\n",
    "\n",
    "    # Assign the defined PXI trigger resources\n",
    "    sys_def.sync_resources = pxi_sync_trigger_resources\n",
    "    \n",
    "    # Assign clock frequencies that are outside the set of the clock frequencies of each HVI engine\n",
    "    # Use the code line below if you want the application to be in sync with the 10 MHz clock\n",
    "    sys_def.non_hvi_core_clocks = [10e6]\n",
    "\n",
    "\n",
    "def define_hvi_engines(sys_def, module_dict):\n",
    "    \"\"\"\n",
    "    Define all the HVI engines to be included in the HVI\n",
    "    \"\"\"\n",
    "    # For each instrument to be used in the HVI application add its HVI Engine to the HVI Engine Collection \n",
    "    for engine_name in module_dict.keys():\n",
    "        sys_def.engines.add(module_dict[engine_name].instrument.hvi.engines.main_engine, engine_name)\n",
    "\n",
    "\n",
    "def define_hvi_actions(sys_def, module_dict):\n",
    "    \"\"\" Defines AWG trigger actions for each module, to be executed by the \"action execute\" instruction in the HVI sequence\n",
    "    Create a list of AWG trigger actions for each AWG module. The list depends on the number of channels \"\"\"\n",
    "\n",
    "    # Previously defined resource names\n",
    "    config = ApplicationConfig()\n",
    "\n",
    "    # For each AWG, define the list of HVI Actions to be executed and add such list to its own HVI Action Collection\n",
    "    for engine_name in module_dict.keys():\n",
    "        for ch_index in range(1, module_dict[engine_name].num_channels + 1):\n",
    "            # Actions need to be added to the engine's action list so that they can be executed\n",
    "            action_name = config.awg_trigger_action_name + str(ch_index) # arbitrary user-defined name\n",
    "            instrument_action = \"awg{}_trigger\".format(ch_index) # name decided by instrument API\n",
    "            action_id = getattr(module_dict[engine_name].instrument.hvi.actions, instrument_action)\n",
    "            sys_def.engines[engine_name].actions.add(action_id, action_name)\n",
    "\n",
    "\n",
    "def define_hvi_triggers(sys_def, module_dict):\n",
    "    \" Defines and configure the FP trigger output of each AWG \"\n",
    "    # Previously defined resources\n",
    "    config = ApplicationConfig()\n",
    "    \n",
    "    # Add to the HVI Trigger Collection of each HVI Engine the FP Trigger object of that same instrument\n",
    "    for engine_name in module_dict.keys():\n",
    "        fp_trigger_id = module_dict[engine_name].instrument.hvi.triggers.front_panel_1\n",
    "        fp_trigger = sys_def.engines[engine_name].triggers.add(fp_trigger_id, config.fp_trigger_name)\n",
    "        # Configure FP trigger in each hvi.engines[index]\n",
    "        fp_trigger.config.direction = kthvi.Direction.OUTPUT\n",
    "        fp_trigger.config.polarity = kthvi.Polarity.ACTIVE_HIGH\n",
    "        fp_trigger.config.sync_mode = kthvi.SyncMode.IMMEDIATE\n",
    "        fp_trigger.config.hw_routing_delay = 0\n",
    "        fp_trigger.config.trigger_mode = kthvi.TriggerMode.LEVEL \n",
    "        #NOTE: FP trigger pulse length is defined by the HVI Statements that control FP Trigger ON/OFF\n"
   ]
  },
  {
   "cell_type": "code",
   "execution_count": 7,
   "metadata": {},
   "outputs": [],
   "source": [
    "def program_trigger_awgs(sync_block, module_dict):\n",
    "    \" Programs the Sync Multi-Sequence Block to trigger AWGs \"\n",
    "    # Recall previously defined resources\n",
    "    config = ApplicationConfig()\n",
    "\n",
    "    # Add instructions to each local sequence within the multi-sequence block\n",
    "    for index in range(0, sync_block.sequences.count):\n",
    "        \n",
    "        # Retrieve the engine sequence from the collection of HVI Local Sequences\n",
    "        # HVI Local Sequence Collection is automatically created form the user-defined HVI Engine Collection\n",
    "        # Each HVI Local Sequence can be retrieved using the name alias of the corresponding HVI Engine\n",
    "        sequence = sync_block.sequences[index]\n",
    "\n",
    "        # Write FP Trigger ON to all instruments\n",
    "        fp_trigger = sequence.engine.triggers[config.fp_trigger_name]\n",
    "        trigger_write = sequence.instruction_set.trigger_write\n",
    "        instr_trigger_ON = sequence.add_instruction(\"FP Trigger ON\", 10, trigger_write.id)\n",
    "        instr_trigger_ON.set_parameter(trigger_write.trigger, fp_trigger)\n",
    "        instr_trigger_ON.set_parameter(trigger_write.sync_mode.id, trigger_write.sync_mode.IMMEDIATE)\n",
    "        instr_trigger_ON.set_parameter(trigger_write.value.id, trigger_write.value.ON)\n",
    "\n",
    "        # Write FP Trigger OFF to all instruments\n",
    "        instr_trigger_OFF = sequence.add_instruction(\"FP Trigger OFF\", 100, trigger_write.id)\n",
    "        instr_trigger_OFF.set_parameter(trigger_write.trigger, fp_trigger)\n",
    "        instr_trigger_OFF.set_parameter(trigger_write.sync_mode.id, trigger_write.sync_mode.IMMEDIATE)\n",
    "        instr_trigger_OFF.set_parameter(trigger_write.value.id, trigger_write.value.OFF)\n",
    "\n",
    "        # Execute AWG trigger from the HVI sequence of each module\n",
    "        # \"Action Execute\" instruction executes the AWG trigger from HVI\n",
    "        action_list = sequence.engine.actions\n",
    "        instruction1 = sequence.add_instruction(\"AWG trigger\", 10, sequence.instruction_set.action_execute.id)\n",
    "        instruction1.set_parameter(sequence.instruction_set.action_execute.action.id, action_list)\n"
   ]
  },
  {
   "cell_type": "code",
   "execution_count": 22,
   "metadata": {},
   "outputs": [],
   "source": [
    "def interact_with_hvi(hvi):\n",
    "    \" User-controlled HVI execution \"\n",
    "    config = ApplicationConfig()\n",
    "    # If running with hardware, iteratively re-run HVI until the user decides to exit\n",
    "    if config.hardware_simulated:\n",
    "        print(\"Simulation completed successfully\")\n",
    "    else:\n",
    "        while True:\n",
    "            print(\"Press enter to run HVI again, q to exit...\")\n",
    "            if input() == 'q':\n",
    "                break\n",
    "            hvi.run(hvi.no_timeout)\n"
   ]
  },
  {
   "cell_type": "code",
   "execution_count": 8,
   "metadata": {},
   "outputs": [],
   "source": [
    "config = ApplicationConfig()"
   ]
  },
  {
   "cell_type": "code",
   "execution_count": 9,
   "metadata": {},
   "outputs": [],
   "source": [
    "module_descriptors = [config.ModuleDescriptor('M3201A', 1, 2, config.options, \"0\")]"
   ]
  },
  {
   "cell_type": "code",
   "execution_count": 10,
   "metadata": {},
   "outputs": [],
   "source": [
    "module_dict = open_modules(module_descriptors)"
   ]
  },
  {
   "cell_type": "code",
   "execution_count": 11,
   "metadata": {},
   "outputs": [
    {
     "data": {
      "text/plain": [
       "<keysightSD1.SD_AOU at 0x274b5540e08>"
      ]
     },
     "execution_count": 11,
     "metadata": {},
     "output_type": "execute_result"
    }
   ],
   "source": [
    "module_dict[\"0\"].instrument"
   ]
  },
  {
   "cell_type": "code",
   "execution_count": 49,
   "metadata": {},
   "outputs": [],
   "source": [
    "for module in module_dict.values():\n",
    "    configure_awg(module.instrument, module.num_channels)"
   ]
  },
  {
   "cell_type": "code",
   "execution_count": 13,
   "metadata": {},
   "outputs": [],
   "source": [
    "pxi_sync_trigger_resources = [\n",
    "    kthvi.TriggerResourceId.PXI_TRIGGER5, \n",
    "    kthvi.TriggerResourceId.PXI_TRIGGER6, \n",
    "    kthvi.TriggerResourceId.PXI_TRIGGER7]\n",
    "chassis_list = [1]\n",
    "M9031_descriptors = []"
   ]
  },
  {
   "cell_type": "code",
   "execution_count": 14,
   "metadata": {},
   "outputs": [],
   "source": [
    "sys_def = kthvi.SystemDefinition(\"systemTest\") \n",
    "# Define your system, HW platform, add HVI engines\n",
    "define_hvi_resources(sys_def, module_dict, chassis_list, M9031_descriptors, pxi_sync_trigger_resources)"
   ]
  },
  {
   "cell_type": "code",
   "execution_count": 66,
   "metadata": {},
   "outputs": [],
   "source": [
    "sequencer = kthvi.Sequencer(\"MySequencer\", sys_def)"
   ]
  },
  {
   "cell_type": "code",
   "execution_count": 67,
   "metadata": {},
   "outputs": [],
   "source": [
    "sync_block = sequencer.sync_sequence.add_sync_multi_sequence_block(\"TriggerAWGs\", 30)"
   ]
  },
  {
   "cell_type": "code",
   "execution_count": 72,
   "metadata": {},
   "outputs": [
    {
     "name": "stdout",
     "output_type": "stream",
     "text": [
      "HVI Compiled\n",
      "This HVI application needs to reserve 0 PXI trigger resources to execute\n"
     ]
    }
   ],
   "source": [
    "hvi = sequencer.compile()\n",
    "print(\"HVI Compiled\")\n",
    "print(\"This HVI application needs to reserve {} PXI trigger resources to execute\".format(len(hvi.compile_status.sync_resources)))\n"
   ]
  },
  {
   "cell_type": "code",
   "execution_count": 73,
   "metadata": {},
   "outputs": [
    {
     "name": "stdout",
     "output_type": "stream",
     "text": [
      "HVI Loaded to HW\n",
      "HVI Running...\n"
     ]
    }
   ],
   "source": [
    "hvi.load_to_hw()    \n",
    "print(\"HVI Loaded to HW\")\n",
    "hvi.run(hvi.no_timeout)\n",
    "print(\"HVI Running...\")"
   ]
  },
  {
   "cell_type": "code",
   "execution_count": 61,
   "metadata": {},
   "outputs": [
    {
     "name": "stdout",
     "output_type": "stream",
     "text": [
      "Press enter to run HVI again, q to exit...\n",
      "\n"
     ]
    },
    {
     "ename": "Error",
     "evalue": "invalid usage \"running not loaded HVI\": HVI has to be loaded before running it",
     "output_type": "error",
     "traceback": [
      "\u001b[1;31m---------------------------------------------------------------------------\u001b[0m",
      "\u001b[1;31mError\u001b[0m                                     Traceback (most recent call last)",
      "\u001b[1;32m<ipython-input-61-cc1ac83f934d>\u001b[0m in \u001b[0;36m<module>\u001b[1;34m\u001b[0m\n\u001b[1;32m----> 1\u001b[1;33m \u001b[0minteract_with_hvi\u001b[0m\u001b[1;33m(\u001b[0m\u001b[0mhvi\u001b[0m\u001b[1;33m)\u001b[0m\u001b[1;33m\u001b[0m\u001b[1;33m\u001b[0m\u001b[0m\n\u001b[0m",
      "\u001b[1;32m<ipython-input-22-ed938cbbb2dd>\u001b[0m in \u001b[0;36minteract_with_hvi\u001b[1;34m(hvi)\u001b[0m\n\u001b[0;32m     10\u001b[0m             \u001b[1;32mif\u001b[0m \u001b[0minput\u001b[0m\u001b[1;33m(\u001b[0m\u001b[1;33m)\u001b[0m \u001b[1;33m==\u001b[0m \u001b[1;34m'q'\u001b[0m\u001b[1;33m:\u001b[0m\u001b[1;33m\u001b[0m\u001b[1;33m\u001b[0m\u001b[0m\n\u001b[0;32m     11\u001b[0m                 \u001b[1;32mbreak\u001b[0m\u001b[1;33m\u001b[0m\u001b[1;33m\u001b[0m\u001b[0m\n\u001b[1;32m---> 12\u001b[1;33m             \u001b[0mhvi\u001b[0m\u001b[1;33m.\u001b[0m\u001b[0mrun\u001b[0m\u001b[1;33m(\u001b[0m\u001b[0mhvi\u001b[0m\u001b[1;33m.\u001b[0m\u001b[0mno_timeout\u001b[0m\u001b[1;33m)\u001b[0m\u001b[1;33m\u001b[0m\u001b[1;33m\u001b[0m\u001b[0m\n\u001b[0m",
      "\u001b[1;31mError\u001b[0m: invalid usage \"running not loaded HVI\": HVI has to be loaded before running it"
     ]
    }
   ],
   "source": [
    "interact_with_hvi(hvi)"
   ]
  },
  {
   "cell_type": "code",
   "execution_count": 63,
   "metadata": {},
   "outputs": [
    {
     "name": "stdout",
     "output_type": "stream",
     "text": [
      "Releasing HW...\n"
     ]
    }
   ],
   "source": [
    "# Release HW resources once HVI execution is completed\n",
    "hvi.release_hw()\n",
    "print(\"Releasing HW...\")"
   ]
  },
  {
   "cell_type": "code",
   "execution_count": null,
   "metadata": {},
   "outputs": [],
   "source": [
    "# Close all modules at the end of the execution\n",
    "for engine_name in module_dict:\n",
    "    module_dict[engine_name].instrument.close()\n",
    "print(\"Modules closed\\n\")\n"
   ]
  },
  {
   "cell_type": "code",
   "execution_count": 68,
   "metadata": {},
   "outputs": [],
   "source": [
    "sequence = sync_block.sequences[0]"
   ]
  },
  {
   "cell_type": "code",
   "execution_count": 69,
   "metadata": {},
   "outputs": [],
   "source": [
    "action_list = sequence.engine.actions\n",
    "instruction1 = sequence.add_instruction(\"AWG trigger\", 100, sequence.instruction_set.action_execute.id)"
   ]
  },
  {
   "cell_type": "code",
   "execution_count": 70,
   "metadata": {},
   "outputs": [],
   "source": [
    "instruction1.set_parameter(sequence.instruction_set.action_execute.action, action_list)"
   ]
  },
  {
   "cell_type": "code",
   "execution_count": 71,
   "metadata": {},
   "outputs": [],
   "source": [
    "instruction2 = sequence.add_instruction(\"AWG trigger 2\", 300, sequence.instruction_set.action_execute.id)\n",
    "instruction2.set_parameter(sequence.instruction_set.action_execute.action, action_list)"
   ]
  },
  {
   "cell_type": "code",
   "execution_count": null,
   "metadata": {},
   "outputs": [],
   "source": [
    "\" Programs the Sync Multi-Sequence Block to trigger AWGs \"\n",
    "# Recall previously defined resources\n",
    "config = ApplicationConfig()\n",
    "\n",
    "# Add instructions to each local sequence within the multi-sequence block\n",
    "for index in range(0, sync_block.sequences.count):\n",
    "\n",
    "    # Retrieve the engine sequence from the collection of HVI Local Sequences\n",
    "    # HVI Local Sequence Collection is automatically created form the user-defined HVI Engine Collection\n",
    "    # Each HVI Local Sequence can be retrieved using the name alias of the corresponding HVI Engine\n",
    "    sequence = sync_block.sequences[index]\n",
    "\n",
    "    # Write FP Trigger ON to all instruments\n",
    "    fp_trigger = sequence.engine.triggers[config.fp_trigger_name]\n",
    "    trigger_write = sequence.instruction_set.trigger_write\n",
    "    instr_trigger_ON = sequence.add_instruction(\"FP Trigger ON\", 10, trigger_write.id)\n",
    "    instr_trigger_ON.set_parameter(trigger_write.trigger, fp_trigger)\n",
    "    instr_trigger_ON.set_parameter(trigger_write.sync_mode.id, trigger_write.sync_mode.IMMEDIATE)\n",
    "    instr_trigger_ON.set_parameter(trigger_write.value.id, trigger_write.value.ON)\n",
    "\n",
    "    # Write FP Trigger OFF to all instruments\n",
    "    instr_trigger_OFF = sequence.add_instruction(\"FP Trigger OFF\", 100, trigger_write.id)\n",
    "    instr_trigger_OFF.set_parameter(trigger_write.trigger, fp_trigger)\n",
    "    instr_trigger_OFF.set_parameter(trigger_write.sync_mode.id, trigger_write.sync_mode.IMMEDIATE)\n",
    "    instr_trigger_OFF.set_parameter(trigger_write.value.id, trigger_write.value.OFF)\n",
    "\n",
    "    # Execute AWG trigger from the HVI sequence of each module\n",
    "    # \"Action Execute\" instruction executes the AWG trigger from HVI\n",
    "    action_list = sequence.engine.actions\n",
    "    instruction1 = sequence.add_instruction(\"AWG trigger\", 10, sequence.instruction_set.action_execute.id)\n",
    "    instruction1.set_parameter(sequence.instruction_set.action_execute.action.id, action_list)\n"
   ]
  }
 ],
 "metadata": {
  "kernelspec": {
   "display_name": "Python 3",
   "language": "python",
   "name": "python3"
  },
  "language_info": {
   "codemirror_mode": {
    "name": "ipython",
    "version": 3
   },
   "file_extension": ".py",
   "mimetype": "text/x-python",
   "name": "python",
   "nbconvert_exporter": "python",
   "pygments_lexer": "ipython3",
   "version": "3.7.9"
  }
 },
 "nbformat": 4,
 "nbformat_minor": 4
}
